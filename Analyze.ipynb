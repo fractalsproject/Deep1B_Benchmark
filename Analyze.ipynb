{
 "cells": [
  {
   "cell_type": "code",
   "execution_count": 3,
   "metadata": {},
   "outputs": [],
   "source": [
    "# List of data files\n",
    "datafile = \"deep1B_f2_apu-3_cpu-512GB_gpu-GEFORCERTXTI.csv\""
   ]
  },
  {
   "cell_type": "code",
   "execution_count": 24,
   "metadata": {},
   "outputs": [
    {
     "name": "stdout",
     "output_type": "stream",
     "text": [
      "  device  query_set_size   k  params   latency  recall\n",
      "6    apu            1000  10      -1  1.541077  0.3404\n",
      "   device  query_set_size   k  params    latency  recall\n",
      "57    cpu            1000  10       1   0.956003  0.3492\n",
      "58    cpu            1000  10       2   1.075990  0.4671\n",
      "59    cpu            1000  10       4   1.182022  0.6997\n",
      "60    cpu            1000  10      16   0.985138  0.5844\n",
      "61    cpu            1000  10      32   1.198412  0.8722\n",
      "62    cpu            1000  10      64  11.197288  0.9796\n",
      "63    cpu            1000  10     128   6.215896  0.9776\n",
      "64    cpu            1000  10     256   2.175025  0.9670\n",
      "    device  query_set_size   k  params    latency  recall\n",
      "129    gpu            1000  10       1   1.013527  0.3492\n",
      "130    gpu            1000  10       2   1.093825  0.4671\n",
      "131    gpu            1000  10       4   1.149180  0.6997\n",
      "132    gpu            1000  10      16   0.968210  0.5844\n",
      "133    gpu            1000  10      32   1.342414  0.8722\n",
      "134    gpu            1000  10      64  11.189230  0.9796\n",
      "135    gpu            1000  10     128   6.309852  0.9776\n",
      "136    gpu            1000  10     256   2.551687  0.9670\n"
     ]
    }
   ],
   "source": [
    "import pandas as pd\n",
    "df = pd.read_csv(datafile)\n",
    "\n",
    "apu = df[ df['device']=='apu'] \n",
    "apu__qs_1000 = apu[ apu['query_set_size']==1000 ] \n",
    "apu__qs_1000__k_10 = apu__qs_1000[ apu__qs_1000['k']==10 ]\n",
    "print(apu__qs_1000__k_10)\n",
    "\n",
    "cpu = df[ df['device']=='cpu'] \n",
    "cpu__qs_1000 = cpu[ cpu['query_set_size']==1000 ] \n",
    "cpu__qs_1000__k_10 = cpu__qs_1000[ cpu__qs_1000['k']==10 ]\n",
    "print(cpu__qs_1000__k_10)\n",
    "\n",
    "gpu = df[ df['device']=='gpu'] \n",
    "gpu__qs_1000 = gpu[ gpu['query_set_size']==1000 ] \n",
    "gpu__qs_1000__k_10 = gpu__qs_1000[ gpu__qs_1000['k']==10 ]\n",
    "print(gpu__qs_1000__k_10)"
   ]
  },
  {
   "cell_type": "code",
   "execution_count": null,
   "metadata": {},
   "outputs": [],
   "source": []
  }
 ],
 "metadata": {
  "kernelspec": {
   "display_name": "Python 3",
   "language": "python",
   "name": "python3"
  },
  "language_info": {
   "codemirror_mode": {
    "name": "ipython",
    "version": 3
   },
   "file_extension": ".py",
   "mimetype": "text/x-python",
   "name": "python",
   "nbconvert_exporter": "python",
   "pygments_lexer": "ipython3",
   "version": "3.8.5"
  }
 },
 "nbformat": 4,
 "nbformat_minor": 4
}
